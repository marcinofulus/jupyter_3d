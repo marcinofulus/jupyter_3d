{
 "cells": [
  {
   "cell_type": "code",
   "execution_count": 9,
   "metadata": {
    "collapsed": true
   },
   "outputs": [],
   "source": [
    "from stl import mesh\n",
    "import math\n",
    "import numpy\n",
    "import numpy as np \n",
    "# Create 3 faces of a cube\n",
    "data = numpy.zeros(6, dtype=mesh.Mesh.dtype)\n",
    "\n",
    "# Top of the cube\n",
    "data['vectors'][0] = numpy.array([[0, 1, 1],\n",
    "                                  [1, 0, 1],\n",
    "                                  [0, 0, 1]])\n",
    "data['vectors'][1] = numpy.array([[1, 0, 1],\n",
    "                                  [0, 1, 1],\n",
    "                                  [1, 1, 1]])\n",
    "# Right face\n",
    "data['vectors'][2] = numpy.array([[1, 0, 0],\n",
    "                                  [1, 0, 1],\n",
    "                                  [1, 1, 0]])\n",
    "data['vectors'][3] = numpy.array([[1, 1, 1],\n",
    "                                  [1, 0, 1],\n",
    "                                  [1, 1, 0]])\n",
    "# Left face\n",
    "data['vectors'][4] = numpy.array([[0, 0, 0],\n",
    "                                  [1, 0, 0],\n",
    "                                  [1, 0, 1]])\n",
    "data['vectors'][5] = numpy.array([[0, 0, 0],\n",
    "                                  [0, 0, 1],\n",
    "                                  [1, 0, 1]])\n",
    "\n",
    "# Since the cube faces are from 0 to 1 we can move it to the middle by\n",
    "# substracting .5\n",
    "data['vectors'] -= .5\n",
    "\n",
    "cube_back = mesh.Mesh(data.copy())\n",
    "cube_front = mesh.Mesh(data.copy())\n",
    "\n",
    "# Rotate 90 degrees over the X axis followed by the Y axis followed by the\n",
    "# X axis\n",
    "cube_back.rotate([0.5, 0.0, 0.0], math.radians(90))\n",
    "cube_back.rotate([0.0, 0.5, 0.0], math.radians(90))\n",
    "cube_back.rotate([0.5, 0.0, 0.0], math.radians(90))\n",
    "\n",
    "cube = mesh.Mesh(numpy.concatenate([\n",
    "    cube_back.data.copy(),\n",
    "    cube_front.data.copy(),\n",
    "]))\n",
    "\n"
   ]
  },
  {
   "cell_type": "code",
   "execution_count": 10,
   "metadata": {
    "collapsed": false
   },
   "outputs": [],
   "source": [
    "cube.save('1.stl')\n"
   ]
  },
  {
   "cell_type": "code",
   "execution_count": 11,
   "metadata": {
    "collapsed": true
   },
   "outputs": [],
   "source": [
    "! stl2ascii 1.stl 1a.stl"
   ]
  },
  {
   "cell_type": "code",
   "execution_count": 12,
   "metadata": {
    "collapsed": true
   },
   "outputs": [],
   "source": [
    "from k3d import K3D\n",
    "plot = K3D(background_color=0x000000)\n",
    "plot.display()"
   ]
  },
  {
   "cell_type": "code",
   "execution_count": 13,
   "metadata": {
    "collapsed": false
   },
   "outputs": [],
   "source": [
    "plot += K3D.stl_load('1a.stl', view_matrix=np.identity(4))"
   ]
  },
  {
   "cell_type": "code",
   "execution_count": 8,
   "metadata": {
    "collapsed": true
   },
   "outputs": [],
   "source": []
  },
  {
   "cell_type": "code",
   "execution_count": null,
   "metadata": {
    "collapsed": false
   },
   "outputs": [],
   "source": []
  },
  {
   "cell_type": "code",
   "execution_count": null,
   "metadata": {
    "collapsed": true
   },
   "outputs": [],
   "source": []
  }
 ],
 "metadata": {
  "kernelspec": {
   "display_name": "Python2",
   "language": "python",
   "name": "python2"
  },
  "language_info": {
   "codemirror_mode": {
    "name": "ipython",
    "version": 2
   },
   "file_extension": ".py",
   "mimetype": "text/x-python",
   "name": "python",
   "nbconvert_exporter": "python",
   "pygments_lexer": "ipython2",
   "version": "2.7.6"
  }
 },
 "nbformat": 4,
 "nbformat_minor": 0
}
