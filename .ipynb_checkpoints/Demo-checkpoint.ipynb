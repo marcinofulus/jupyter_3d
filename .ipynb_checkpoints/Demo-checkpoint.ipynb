{
 "cells": [
  {
   "cell_type": "markdown",
   "metadata": {},
   "source": [
    "1. Obiekty statyczne - Wczytywanie geometrii w formacie danych STL (STereoLithography)\n",
    "2. Etykiety tekstowe położone w dowolnym punkcie sceny\n",
    "3. Wektor - Narysowanie wektora o zadanym punkcie początkowym i kierunku wraz z jego oznaczeniem\n",
    "4. Pole wektorowe - Narysowanie pola wektorowego w R2 oraz R3, wraz z opcjonalnym oznaczeniem każdego\n",
    "z wektorów\n",
    "5. Punkty - Wizualizacja punktów, wraz z opcjonalnym oznaczeniem (etykieta)\n",
    "6. Linie - Wizualizacja linii złożonej z n węzłów, wraz z opcjonalnym jej oznaczeniem (etykieta)\n",
    "7. Tekstura na obiekcie prostokątnym w 3D\n",
    "8. Powierzchnie - Wizualizacja powierzchni opisanej jako tablica wysokości w punktach (x,y) należących do\n",
    "siatki regularnej\n",
    "9. Niestrukturalne siatki powierzchniowe – służące do wizualizacji izopowierzchni funkcji skalarnych w 3\n",
    "wymiarach\n",
    "10. Woksele (volumetric element) - Wizualizacja wokseli opisanych jako tablica trójwymiarowa wartości z których\n",
    "każda może być mapowana na kolor, a 0 jako brak woksela."
   ]
  },
  {
   "cell_type": "code",
   "execution_count": null,
   "metadata": {
    "collapsed": true
   },
   "outputs": [],
   "source": []
  },
  {
   "cell_type": "markdown",
   "metadata": {},
   "source": [
    "## General remarks\n",
    "\n",
    "API should be similar to http://matplotlib.org/examples/mplot3d/index.html\n",
    "however Sage style of \"adding\" plots seems to be better."
   ]
  },
  {
   "cell_type": "code",
   "execution_count": null,
   "metadata": {
    "collapsed": true
   },
   "outputs": [],
   "source": []
  },
  {
   "cell_type": "markdown",
   "metadata": {},
   "source": [
    "## STL"
   ]
  },
  {
   "cell_type": "code",
   "execution_count": null,
   "metadata": {
    "collapsed": true
   },
   "outputs": [],
   "source": [
    "plt = k3d.load_stl(\"1.stl\")\n",
    "plt.show()"
   ]
  },
  {
   "cell_type": "markdown",
   "metadata": {},
   "source": [
    "## Text\n",
    "\n",
    "http://matplotlib.org/api/pyplot_api.html#matplotlib.pyplot.text\n",
    "\n",
    "more or less:"
   ]
  },
  {
   "cell_type": "code",
   "execution_count": null,
   "metadata": {
    "collapsed": false
   },
   "outputs": [],
   "source": [
    "k3d.text(x,y,z,s,fontsize=12)"
   ]
  },
  {
   "cell_type": "markdown",
   "metadata": {},
   "source": [
    "## Vector and vector fields\n",
    "\n",
    "http://matplotlib.org/examples/pylab_examples/quiver_demo.html\n",
    "http://matplotlib.org/examples/mplot3d/quiver3d_demo.html\n",
    "\n",
    "if 'u,v,z' are 3d  arrays assume meshgrid , if all args are 1d threat it as vertors in arbitrary places."
   ]
  },
  {
   "cell_type": "code",
   "execution_count": null,
   "metadata": {
    "collapsed": true
   },
   "outputs": [],
   "source": [
    "k3d.quiver3d(x,y,z,u,v,w)"
   ]
  },
  {
   "cell_type": "markdown",
   "metadata": {},
   "source": [
    "## Points and lines\n",
    "\n",
    "similarly to matplotlib plot.\n",
    "\n",
    "http://matplotlib.org/examples/mplot3d/lines3d_demo.html\n"
   ]
  },
  {
   "cell_type": "markdown",
   "metadata": {},
   "source": [
    "## Texture on rectangle\n",
    "\n",
    "TO be discussed - texture2d( rectangle in 3d, texture )"
   ]
  },
  {
   "cell_type": "code",
   "execution_count": null,
   "metadata": {
    "collapsed": true
   },
   "outputs": [],
   "source": []
  },
  {
   "cell_type": "markdown",
   "metadata": {},
   "source": [
    "## Surfaces, on regular or arbitrary grids\n",
    "\n",
    "http://matplotlib.org/examples/mplot3d/subplot3d_demo.html\n",
    "\n",
    "\n",
    "For isosurfaces, we could assume that we have data prepared and use similar syntax:\n",
    "\n",
    "http://matplotlib.org/examples/mplot3d/trisurf3d_demo.html\n",
    "\n"
   ]
  },
  {
   "cell_type": "code",
   "execution_count": null,
   "metadata": {
    "collapsed": true
   },
   "outputs": [],
   "source": [
    "k3d.surface3d(x,y,z)"
   ]
  },
  {
   "cell_type": "markdown",
   "metadata": {},
   "source": [
    "## voxels\n",
    "\n",
    "x,y,z - meshgrid, optional (is not present assume 0-nx, etc..."
   ]
  },
  {
   "cell_type": "code",
   "execution_count": null,
   "metadata": {
    "collapsed": true
   },
   "outputs": [],
   "source": [
    "k3d.minecraft_geom(x,y,z,bool_np_array)"
   ]
  }
 ],
 "metadata": {
  "kernelspec": {
   "display_name": "Python 2",
   "language": "python",
   "name": "python2"
  },
  "language_info": {
   "codemirror_mode": {
    "name": "ipython",
    "version": 2
   },
   "file_extension": ".py",
   "mimetype": "text/x-python",
   "name": "python",
   "nbconvert_exporter": "python",
   "pygments_lexer": "ipython2",
   "version": "2.7.10"
  }
 },
 "nbformat": 4,
 "nbformat_minor": 0
}
