{
 "cells": [
  {
   "cell_type": "code",
   "execution_count": 2,
   "metadata": {
    "collapsed": true
   },
   "outputs": [],
   "source": [
    "from k3d import K3D\n",
    "import numpy as np\n",
    "from ipywidgets import interact, interactive, fixed\n",
    "import ipywidgets as widgets\n",
    "import time\n",
    "plot = K3D()\n",
    "plot.display()\n",
    "\n",
    "plot += K3D.vectors(\n",
    "   (0,0,0,0,0,0,0,0,0), \n",
    "   (1,0,0,0,1,0,0,0,1), \n",
    "   colors=(0xff0000, 0xff0000, 0x0000ff, 0x0000ff, 0x00ff00, 0x00ff00), \n",
    "   labels=('Axis x', 'Axis y', 'Axis z')\n",
    ")\n",
    "\n",
    "Nz = 60\n",
    "Nx = 60\n",
    "Ny = 60\n",
    "xmin,xmax = -1,1\n",
    "ymin,ymax = -1,1\n",
    "zmin,zmax = -1,1\n",
    "x = np.linspace(xmin,xmax,Nx)\n",
    "y = np.linspace(ymin,ymax,Ny)\n",
    "z = np.linspace(zmin,zmax,Nz)\n",
    "x,y,z = np.meshgrid(x,y,z,indexing='ij')\n",
    "eps = 1e-4\n",
    "f = 1/(x**2+y**2+(z-0.5)**2+eps)+1/((x-0.5)**2+y**2+z**2+eps)+1/((x+0.5)**2+y**2+z**2+eps)\n",
    "iso = K3D.marching_cubes(f ,xmin=xmin,xmax=xmax,ymin=ymin,ymax=ymax, zmin=zmin, zmax=zmax, level=4.0)\n",
    "\n",
    "plot += iso\n",
    "@interact(x=widgets.FloatSlider(value=4,min=0.0,max=40,step=0.01))\n",
    "def g(x):\n",
    "    iso.level=x"
   ]
  },
  {
   "cell_type": "code",
   "execution_count": 3,
   "metadata": {
    "collapsed": false
   },
   "outputs": [],
   "source": [
    "from k3d import K3D\n",
    "import numpy as np\n",
    "from ipywidgets import interact, interactive, fixed\n",
    "import ipywidgets as widgets\n",
    "import time\n",
    "plot = K3D()\n",
    "plot.display()\n",
    "\n",
    "plot += K3D.vectors(\n",
    "   (0,0,0,0,0,0,0,0,0), \n",
    "   (1,0,0,0,1,0,0,0,1), \n",
    "   colors=(0xff0000, 0xff0000, 0x0000ff, 0x0000ff, 0x00ff00, 0x00ff00), \n",
    "   labels=('Axis x', 'Axis y', 'Axis z')\n",
    ")\n",
    "\n",
    "T = 1.618033988749895\n",
    "from numpy import sin,cos,pi\n",
    "r = 4.77\n",
    "zmin,zmax = -r,r\n",
    "xmin,xmax = -r,r\n",
    "ymin,ymax = -r,r\n",
    "Nx,Ny,Nz = 77,77,77\n",
    "\n",
    "x = np.linspace(xmin,xmax,Nx)\n",
    "y = np.linspace(ymin,ymax,Ny)\n",
    "z = np.linspace(zmin,zmax,Nz)\n",
    "x,y,z = np.meshgrid(x,y,z,indexing='ij')\n",
    "\n",
    "%time p = 2 - (cos(x + T*y) + cos(x - T*y) + cos(y + T*z) + cos(y - T*z) + cos(z - T*x) + cos(z + T*x))\n",
    "\n",
    "import base64\n",
    "%time print \"Transfered data size:\",len(base64.b64encode(p.data))/1024.**2, \"MB\"\n",
    "\n",
    "\n",
    "iso = K3D.marching_cubes(p,xmin=xmin,xmax=xmax,ymin=ymin,ymax=ymax, zmin=zmin, zmax=zmax, level=0.0)\n",
    "\n",
    "\n",
    "\n",
    "plot += iso\n",
    "@interact(x=widgets.FloatSlider(value=0,min=-3,max=4,step=0.01))\n",
    "def g(x):\n",
    "    iso.level=x\n",
    "\n",
    "\n",
    "\n"
   ]
  },
  {
   "cell_type": "code",
   "execution_count": null,
   "metadata": {
    "collapsed": false
   },
   "outputs": [],
   "source": []
  },
  {
   "cell_type": "code",
   "execution_count": null,
   "metadata": {
    "collapsed": true
   },
   "outputs": [],
   "source": []
  }
 ],
 "metadata": {
  "kernelspec": {
   "display_name": "Python2",
   "language": "python",
   "name": "python2"
  },
  "language_info": {
   "codemirror_mode": {
    "name": "ipython",
    "version": 2
   },
   "file_extension": ".py",
   "mimetype": "text/x-python",
   "name": "python",
   "nbconvert_exporter": "python",
   "pygments_lexer": "ipython2",
   "version": "2.7.6"
  }
 },
 "nbformat": 4,
 "nbformat_minor": 0
}
