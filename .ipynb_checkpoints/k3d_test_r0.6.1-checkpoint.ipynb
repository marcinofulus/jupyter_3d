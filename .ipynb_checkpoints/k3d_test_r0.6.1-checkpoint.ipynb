{
 "cells": [
  {
   "cell_type": "markdown",
   "metadata": {},
   "source": [
    "# K3D - Release 0.6.1 tests\n",
    "\n",
    "** ...jest dobrze, ale nie beznadziejnie ** \n",
    "\n",
    " 1. Można uruchomic wszystkie komórki jedna po drugien (Run All)\n",
    " 1. Powinna płaszczyzna z surface być tam gdzie są punkty linie i początki wektorów. Jeśli w weźmiecie:\n",
    "     \n",
    "     `ymin,ymax = -3,3` w pierwszym surface to jest ok.\n",
    "     \n",
    " 2. Meshgridem nie udało mi się odtworzyć wykresu funkcji (niebieska płaszczyzna)\n",
    " \n",
    "  "
   ]
  },
  {
   "cell_type": "code",
   "execution_count": null,
   "metadata": {
    "collapsed": false
   },
   "outputs": [],
   "source": [
    "from k3d import K3D\n",
    "import numpy as np\n",
    "\n",
    "plot = K3D()\n",
    "plot.display()\n",
    "\n",
    "plot += K3D.vectors(\n",
    "   (0,0,0,0,0,0,0,0,0), \n",
    "   (1,0,0,0,1,0,0,0,1), \n",
    "   colors=(0xff0000, 0xff0000, 0x0000ff, 0x0000ff, 0x00ff00, 0x00ff00), \n",
    "   labels=('oś x', 'oś y', 'oś z')\n",
    ")\n",
    "\n",
    "\n",
    "\n",
    "\n"
   ]
  },
  {
   "cell_type": "markdown",
   "metadata": {},
   "source": [
    "## surface \n",
    "\n",
    " - założone jest próbkowanie zwane  `indexing='ij'` w meshgridzie (niedefaultowe), jest to na razie ok,\n",
    " - $y$ pełni rolę $z$\n",
    " - dobrze by było dać poniższy przykład jako oficjalny (tzw. z meshgrid-em a nie mgridem), \n",
    " - dlaczego jeśli jest defaultowe ` ymin=-.5, ymax=.5` to wykres ma wartości w `(-1,1)`\n",
    " - poniżej jeden przykład, który się źle rysuje\n",
    " \n",
    " \n",
    "\n"
   ]
  },
  {
   "cell_type": "code",
   "execution_count": null,
   "metadata": {
    "collapsed": false
   },
   "outputs": [],
   "source": [
    "# wykres nie zaczyna się od y=0 (moje y ;-) \n",
    "# dla ymin,ymax = -3,3 jest ok \n",
    "\n",
    "Nx = 60\n",
    "Ny = 60\n",
    "xmin,xmax = -3,3\n",
    "ymin,ymax = -0,3\n",
    "\n",
    "\n",
    "x = np.linspace(xmin,xmax,Nx)\n",
    "y = np.linspace(ymin,ymax,Ny)\n",
    "x,y = np.meshgrid(x,y,indexing='ij')\n",
    "plot += K3D.surface(np.sin(x**2+y**2),xmin=xmin,xmax=xmax,zmin=ymin,zmax=ymax, color=np.random.randint(0, 0xFFFFFF, 1)[0])\n",
    "\n"
   ]
  },
  {
   "cell_type": "code",
   "execution_count": null,
   "metadata": {
    "collapsed": false
   },
   "outputs": [],
   "source": [
    "%%time \n",
    "##  w tym przykładzie  wykres powinien być tej samej funkcji - i jest! \n",
    "\n",
    "for i in range(0):\n",
    "    Nx,Ny = np.random.randint(80,100,size=2)\n",
    "    dx,dy = 6*np.random.random(2)\n",
    "    x0,y0 = 2*np.random.random(2)\n",
    "    xmin,xmax = x0-dx, x0+dx\n",
    "    ymin,ymax = y0-dy, y0+dy\n",
    "    x = np.linspace(xmin,xmax,Nx)\n",
    "    y = np.linspace(ymin,ymax,Ny)\n",
    "    x,y = np.meshgrid(x,y,indexing='ij')\n",
    "    plot += K3D.surface(np.sin(x**2+y**2),xmin=xmin,xmax=xmax,zmin=ymin,zmax=ymax, color=np.random.randint(0, 0xFFFFFF, 1)[0])\n"
   ]
  },
  {
   "cell_type": "markdown",
   "metadata": {},
   "source": [
    "## text\n",
    "\n",
    "- OK ;-)\n",
    "\n"
   ]
  },
  {
   "cell_type": "code",
   "execution_count": null,
   "metadata": {
    "collapsed": false
   },
   "outputs": [],
   "source": [
    "plot += K3D.text(\"X\", position=(0, 0, -0.5) )\n",
    "plot += K3D.text(\"X max\", position=(3, 0, 0) )\n",
    "plot += K3D.text(\"X min\", position=(-3, 0, 0) )\n",
    "plot += K3D.text(\"Y min\", position=(0, 0, -3) )\n",
    "plot += K3D.text(\"Y max\", position=(0, 0, 3) )\n",
    "plot += K3D.text(\"Z min\", position=(0, -0.5, 0) )\n",
    "plot += K3D.text(\"Z max\", position=(0, 0.5, 0) )"
   ]
  },
  {
   "cell_type": "markdown",
   "metadata": {
    "collapsed": true
   },
   "source": [
    "## points"
   ]
  },
  {
   "cell_type": "code",
   "execution_count": null,
   "metadata": {
    "collapsed": false
   },
   "outputs": [],
   "source": [
    "x = x.flatten()\n",
    "y = y.flatten()\n",
    "z = np.sin(x**2+y**2) \n",
    "points = np.vstack([x,z,y]).T #.copy()\n",
    "plot += K3D.points(points,colors=np.ones_like(x)*0xFF0F00 ,point_size=4)"
   ]
  },
  {
   "cell_type": "markdown",
   "metadata": {},
   "source": [
    "## line "
   ]
  },
  {
   "cell_type": "code",
   "execution_count": null,
   "metadata": {
    "collapsed": false
   },
   "outputs": [],
   "source": [
    "x = np.linspace(xmin,xmax,Nx)\n",
    "y = np.linspace(ymin,ymax,Ny)\n",
    "x, y = np.meshgrid(x,y,indexing='ij')\n",
    "\n",
    "for i in range(0,Nx-1,5):\n",
    "    x_ = x[:,i]\n",
    "    y_ = y[:,i]\n",
    "    z = np.sin(x_**2+y_**2)\n",
    "    points = np.vstack([x_,z,y_]).T #.copy()\n",
    "    plot += K3D.line(points,color=0x00FF00 ,width=5)"
   ]
  },
  {
   "cell_type": "markdown",
   "metadata": {},
   "source": [
    "## vectors"
   ]
  },
  {
   "cell_type": "code",
   "execution_count": null,
   "metadata": {
    "collapsed": false
   },
   "outputs": [],
   "source": [
    "x = np.linspace(xmin,xmax,Nx)\n",
    "y = np.linspace(ymin,ymax,Ny)\n",
    "dx, dy  = x[1]-x[0],y[1]-y[0]\n",
    "\n",
    "x,y = np.meshgrid(x,y,indexing='ij')\n",
    "z = np.sin(x**2+y**2)\n",
    "dx,dy \n",
    "dFx,dFy = np.gradient(z)\n",
    "\n",
    "origins = np.vstack([x.flatten(),z.flatten(),y.flatten()]).T\n",
    "vectors = 0.1*(np.vstack([dFx.flatten()/dx,-np.ones(Nx*Ny),dFy.flatten()/dy] )).T\n",
    "plot += K3D.vectors(origins,vectors)"
   ]
  },
  {
   "cell_type": "code",
   "execution_count": null,
   "metadata": {
    "collapsed": true
   },
   "outputs": [],
   "source": []
  },
  {
   "cell_type": "markdown",
   "metadata": {},
   "source": [
    "## marching cubes\n",
    "\n",
    "Chciałbym narysować dokładnie ten sam wykres - mianowicie `level=0` dla funkcji $F(x,y,z)=f(x,y)-z$ (moje $y$,$z$). "
   ]
  },
  {
   "cell_type": "code",
   "execution_count": null,
   "metadata": {
    "collapsed": false
   },
   "outputs": [],
   "source": [
    "Nz = Nx\n",
    "zmin,zmax = -1,1\n",
    "x = np.linspace(xmin,xmax,Nx)\n",
    "y = np.linspace(ymin,ymax,Ny)\n",
    "z = np.linspace(zmin,zmax,Nz)\n",
    "x,y,z = np.meshgrid(x,y,z,indexing='ij')\n",
    "plot += K3D.marching_cubes(np.sin(x**2+z**2)-y,xmin=xmin,xmax=xmax,zmin=ymin,zmax=ymax, ymin=zmin, ymax=zmax, level=0.0)"
   ]
  },
  {
   "cell_type": "code",
   "execution_count": null,
   "metadata": {
    "collapsed": false
   },
   "outputs": [],
   "source": []
  },
  {
   "cell_type": "code",
   "execution_count": null,
   "metadata": {
    "collapsed": true
   },
   "outputs": [],
   "source": []
  },
  {
   "cell_type": "code",
   "execution_count": null,
   "metadata": {
    "collapsed": true
   },
   "outputs": [],
   "source": []
  },
  {
   "cell_type": "code",
   "execution_count": null,
   "metadata": {
    "collapsed": true
   },
   "outputs": [],
   "source": []
  }
 ],
 "metadata": {
  "kernelspec": {
   "display_name": "Python2",
   "language": "python",
   "name": "python2"
  },
  "language_info": {
   "codemirror_mode": {
    "name": "ipython",
    "version": 2
   },
   "file_extension": ".py",
   "mimetype": "text/x-python",
   "name": "python",
   "nbconvert_exporter": "python",
   "pygments_lexer": "ipython2",
   "version": "2.7.6"
  }
 },
 "nbformat": 4,
 "nbformat_minor": 0
}
