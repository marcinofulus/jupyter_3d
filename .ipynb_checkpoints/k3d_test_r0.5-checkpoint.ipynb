{
 "cells": [
  {
   "cell_type": "code",
   "execution_count": null,
   "metadata": {
    "collapsed": true
   },
   "outputs": [],
   "source": [
    "# relesea 0.5 tests"
   ]
  },
  {
   "cell_type": "code",
   "execution_count": null,
   "metadata": {
    "collapsed": true
   },
   "outputs": [],
   "source": [
    "from k3d import K3D\n",
    "import numpy as np\n",
    "def box(S = [-0.5,.5],extend=None):\n",
    "    \"\"\" Corners of default vieport box\"\"\"\n",
    "    if extend:\n",
    "        box = [(i,j,k) for i in extend[0:2] for j in extend[2:4] for k in extend[4:6]]\n",
    "    else:\n",
    "        box = [(i,j,k) for i in S for j in S for k in S]\n",
    "    return box\n",
    "\n",
    "plot = K3D()\n",
    "plot.display()\n",
    "\n",
    "## powinno narysowac \"viewport\" - nie rysuje jednej kropki!\n",
    "plot += K3D.points(box(),point_size=15,color=0xff0000)\n"
   ]
  },
  {
   "cell_type": "markdown",
   "metadata": {},
   "source": [
    "###SAGECELL: try\n",
    "\n",
    "    def box(S = [-0.5,.5],extend=None):\n",
    "        \"\"\" Corners of default vieport box\"\"\"\n",
    "        if extend:\n",
    "            box = [(i,j,k) for i in extend[0:2] for j in extend[2:4] for k in extend[4:6]]\n",
    "        else:\n",
    "            box = [(i,j,k) for i in S for j in S for k in S]\n",
    "        return box\n",
    "    xmin,xmax = -3,3\n",
    "    ymin,ymax = -3,3.\n",
    "\n",
    "    point3d( box(extend=[xmin,xmax,ymin,ymax,-1,1]) ) "
   ]
  },
  {
   "cell_type": "code",
   "execution_count": null,
   "metadata": {
    "collapsed": true
   },
   "outputs": [],
   "source": []
  },
  {
   "cell_type": "code",
   "execution_count": null,
   "metadata": {
    "collapsed": false
   },
   "outputs": [],
   "source": [
    "# testuje xmin, max .... \n",
    "Nx = 60\n",
    "Ny = 60\n",
    "xmin,xmax = -3,3\n",
    "ymin,ymax = -3,3.\n",
    "x = np.linspace(xmin,xmax,Nx)\n",
    "y = np.linspace(ymin,ymax,Ny)\n",
    "x,y = np.meshgrid(x,y)\n",
    "plot += K3D.surface(np.sin(x**2+y**2),xmin=xmin,xmax=xmax,ymin=ymin,ymax=ymax,zmin=-.41,zmax=.41, color=np.random.randint(0, 0xFFFFFF, 1)[0])\n",
    "\n",
    "plot += K3D.points(box(extend=[xmin,xmax,ymin,ymax,-1,1]),point_size=5,color=0x0000ff)"
   ]
  },
  {
   "cell_type": "code",
   "execution_count": null,
   "metadata": {
    "collapsed": false
   },
   "outputs": [],
   "source": [
    "%%time \n",
    "## os pionowa jest chyba osia y !!!!\n",
    "Nx = 500\n",
    "Ny = 500\n",
    "xmin,xmax = -3,3\n",
    "ymin,ymax = -3,3.\n",
    "x = np.linspace(xmin,xmax,Nx)\n",
    "y = np.linspace(ymin,ymax,Ny)\n",
    "x,y = np.meshgrid(x,y)\n",
    "plot += K3D.surface(np.sin(x**2+y**2),xmin=xmin,xmax=xmax,zmin=ymin,zmax=ymax,ymin=-1,ymax=1, color=np.random.randint(0, 0xFFFFFF, 1)[0])\n",
    "\n",
    "plot += K3D.points(box(extend=[xmin,xmax,-1,1,ymin,ymax]),point_size=5,color=0x0000ff)"
   ]
  },
  {
   "cell_type": "markdown",
   "metadata": {},
   "source": [
    "### Dorysowywanie wykresów ok - "
   ]
  },
  {
   "cell_type": "code",
   "execution_count": null,
   "metadata": {
    "collapsed": false
   },
   "outputs": [],
   "source": [
    "Nx = 20\n",
    "Ny = 20\n",
    "xmin,xmax = -1,1\n",
    "ymin,ymax = -1,0.\n",
    "x = np.linspace(xmin,xmax,Nx)\n",
    "y = np.linspace(ymin,ymax,Ny)\n",
    "x,y = np.meshgrid(x,y)\n",
    "plot += K3D.surface(np.sin(x**2+y**2),xmin=xmin,xmax=xmax,zmin=ymin,zmax=ymax,ymin=-1,ymax=1, color=np.random.randint(0, 0xFFFFFF, 1)[0])\n",
    "\n",
    "\n",
    "Nx = 20\n",
    "Ny = 20\n",
    "xmin,xmax = -1,1\n",
    "ymin,ymax = 0.,1\n",
    "x = np.linspace(xmin,xmax,Nx)\n",
    "y = np.linspace(ymin,ymax,Ny)\n",
    "x,y = np.meshgrid(x,y)\n",
    "plot += K3D.surface(np.sin(x**2+y**2),xmin=xmin,xmax=xmax,zmin=ymin,zmax=ymax,ymin=-1,ymax=1, color=np.random.randint(0, 0xFFFFFF, 1)[0])\n",
    "\n",
    "\n"
   ]
  },
  {
   "cell_type": "code",
   "execution_count": null,
   "metadata": {
    "collapsed": false
   },
   "outputs": [],
   "source": [
    "len( set(box()) ), len(box())"
   ]
  },
  {
   "cell_type": "code",
   "execution_count": null,
   "metadata": {
    "collapsed": true
   },
   "outputs": [],
   "source": []
  }
 ],
 "metadata": {
  "kernelspec": {
   "display_name": "Python2",
   "language": "python",
   "name": "python2"
  },
  "language_info": {
   "codemirror_mode": {
    "name": "ipython",
    "version": 2
   },
   "file_extension": ".py",
   "mimetype": "text/x-python",
   "name": "python",
   "nbconvert_exporter": "python",
   "pygments_lexer": "ipython2",
   "version": "2.7.6"
  }
 },
 "nbformat": 4,
 "nbformat_minor": 0
}
